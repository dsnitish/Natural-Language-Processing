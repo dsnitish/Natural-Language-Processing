{
 "cells": [
  {
   "cell_type": "markdown",
   "metadata": {},
   "source": [
    "# NLTK "
   ]
  },
  {
   "cell_type": "code",
   "execution_count": 1,
   "metadata": {},
   "outputs": [],
   "source": [
    "#Downloading all the nlp packages"
   ]
  },
  {
   "cell_type": "code",
   "execution_count": 4,
   "metadata": {},
   "outputs": [],
   "source": [
    "import nltk\n",
    "#nltk.download()"
   ]
  },
  {
   "cell_type": "code",
   "execution_count": 5,
   "metadata": {},
   "outputs": [],
   "source": [
    "paragraph = \"\"\"At the Paris Conference in 2015 where the Agreement was negotiated, the\n",
    "               developed countries reaffirmed the commitment to mobilize $100 billion\n",
    "               a year in climate finance by 2020, and agreed to continue mobilizing \n",
    "               finance at the level of $100 billion a year until 2025.The commitment \n",
    "               refers to the pre-existing plan to provide US$100 billion a year in aid\n",
    "               to developing countries for actions on climate change adaptation and \n",
    "               mitigation.\n",
    "\n",
    "               Though both mitigation and adaptation require increased climate financing,\n",
    "               adaptation has typically received lower levels of support and has mobilised\n",
    "               less action from the private sector.[44] A 2014 report by the OECD found that\n",
    "               just 16 percent of global finance was directed toward climate adaptation in 2014.\n",
    "               The Paris Agreement called for a balance of climate finance between adaptation\n",
    "               and mitigation, and specifically underscoring the need to increase adaptation \n",
    "               support for parties most vulnerable to the effects of climate change, including\n",
    "               Least Developed Countries and Small Island Developing States. The agreement also\n",
    "               reminds parties of the importance of public grants, because adaptation measures\n",
    "               receive less investment from the public sector.[44] John Kerry, as Secretar\n",
    "               y of State, announced that the U.S. would double its grant-based adaptation \n",
    "               finance by 2020\"\"\"\n",
    "\n"
   ]
  },
  {
   "cell_type": "markdown",
   "metadata": {},
   "source": [
    "## Tokenizing sentences and words"
   ]
  },
  {
   "cell_type": "code",
   "execution_count": 6,
   "metadata": {},
   "outputs": [],
   "source": [
    "# Tokenizing sentences\n",
    "sentences = nltk.sent_tokenize(paragraph)\n",
    "\n",
    "# Tokenizing words\n",
    "words = nltk.word_tokenize(paragraph)"
   ]
  },
  {
   "cell_type": "code",
   "execution_count": 7,
   "metadata": {},
   "outputs": [
    {
     "data": {
      "text/plain": [
       "['At the Paris Conference in 2015 where the Agreement was negotiated, the\\n               developed countries reaffirmed the commitment to mobilize $100 billion\\n               a year in climate finance by 2020, and agreed to continue mobilizing \\n               finance at the level of $100 billion a year until 2025.The commitment \\n               refers to the pre-existing plan to provide US$100 billion a year in aid\\n               to developing countries for actions on climate change adaptation and \\n               mitigation.',\n",
       " 'Though both mitigation and adaptation require increased climate financing,\\n               adaptation has typically received lower levels of support and has mobilised\\n               less action from the private sector.',\n",
       " '[44] A 2014 report by the OECD found that\\n               just 16 percent of global finance was directed toward climate adaptation in 2014.',\n",
       " 'The Paris Agreement called for a balance of climate finance between adaptation\\n               and mitigation, and specifically underscoring the need to increase adaptation \\n               support for parties most vulnerable to the effects of climate change, including\\n               Least Developed Countries and Small Island Developing States.',\n",
       " 'The agreement also\\n               reminds parties of the importance of public grants, because adaptation measures\\n               receive less investment from the public sector.',\n",
       " '[44] John Kerry, as Secretar\\n               y of State, announced that the U.S. would double its grant-based adaptation \\n               finance by 2020']"
      ]
     },
     "execution_count": 7,
     "metadata": {},
     "output_type": "execute_result"
    }
   ],
   "source": [
    "sentences"
   ]
  },
  {
   "cell_type": "markdown",
   "metadata": {},
   "source": [
    "# Stemming"
   ]
  },
  {
   "cell_type": "code",
   "execution_count": 12,
   "metadata": {},
   "outputs": [],
   "source": [
    "# removeing of stop words\n",
    "import nltk\n",
    "from nltk.stem import PorterStemmer\n",
    "from nltk.corpus import stopwords\n",
    "\n",
    "paragraph1 = \"\"\"Today’s mainly virtual official commemoration includes a declaration\n",
    "               on the UN’s 75th anniversary. The declaration recalls the UN’s\n",
    "               successes and failures over more than seven decades and vows to \n",
    "               build a post-pandemic world that is more equal, works together \n",
    "               and protects the planet, in a spirit of inclusive multilateralism.\n",
    "\n",
    "               “The urgency for all countries to come together, to fulfill the \n",
    "               promise of the nations united, has rarely been greater,” it says,\n",
    "               while praising the United Nations as the only global organization\n",
    "               that “gives hope to so many people for a better world and can \n",
    "               deliver the future we want,” the statement reads.\"\"\"\n",
    "               \n",
    "               \n",
    "sentences1 = nltk.sent_tokenize(paragraph1)\n",
    "stemmer = PorterStemmer()\n",
    "\n",
    "# Stemming\n",
    "for i in range(len(sentences1)):\n",
    "    words = nltk.word_tokenize(sentences1[i])\n",
    "    words = [stemmer.stem(word) for word in words if word not in set(stopwords.words('english'))]\n",
    "    sentences1[i] = ' '.join(words)   \n"
   ]
  },
  {
   "cell_type": "code",
   "execution_count": 13,
   "metadata": {},
   "outputs": [
    {
     "data": {
      "text/plain": [
       "['today ’ mainli virtual offici commemor includ declar UN ’ 75th anniversari .',\n",
       " 'the declar recal UN ’ success failur seven decad vow build post-pandem world equal , work togeth protect planet , spirit inclus multilater .',\n",
       " '“ the urgenc countri come togeth , fulfil promis nation unit , rare greater , ” say , prais unit nation global organ “ give hope mani peopl better world deliv futur want , ” statement read .']"
      ]
     },
     "execution_count": 13,
     "metadata": {},
     "output_type": "execute_result"
    }
   ],
   "source": [
    "sentences1"
   ]
  },
  {
   "cell_type": "markdown",
   "metadata": {},
   "source": [
    "# Lemmatization"
   ]
  },
  {
   "cell_type": "code",
   "execution_count": 14,
   "metadata": {},
   "outputs": [],
   "source": [
    "import nltk\n",
    "from nltk.stem import WordNetLemmatizer\n",
    "from nltk.corpus import stopwords\n",
    "\n",
    "paragraph2 = \"\"\"The bulk of the operational rules of the Paris Agreement is in\n",
    "               place and ready for implementation. The processes for submitting \n",
    "               stronger nationally determined contributions every five years,\n",
    "               and for reviewing them under the global stocktake, have been defined.\n",
    "               Countries can and must use these rules now to reach highest possible ambition.\n",
    "               The secretariat will continue to support Parties and non-party stakeholders\n",
    "               in their efforts to put this framework into action.\n",
    "\n",
    "               In 2020, the priority is to ensure continuity of the global climate effort amidst COVID-19.\n",
    "               The June conference as well as COP 26 will be postponed and work will continue\n",
    "               to assist Parties in submitting their nationally determined contributions and to support\n",
    "               to workstreams, constituted bodies and work programmes in an all-virtual environment.\"\"\"\n",
    "               \n",
    "               \n",
    "sentences2 = nltk.sent_tokenize(paragraph2)\n",
    "lemmatizer = WordNetLemmatizer()\n",
    "\n",
    "# Lemmatization\n",
    "for i in range(len(sentences2)):\n",
    "    words = nltk.word_tokenize(sentences2[i])\n",
    "    words = [lemmatizer.lemmatize(word) for word in words if word not in set(stopwords.words('english'))]\n",
    "    sentences2[i] = ' '.join(words)"
   ]
  },
  {
   "cell_type": "code",
   "execution_count": 15,
   "metadata": {},
   "outputs": [
    {
     "data": {
      "text/plain": [
       "['The bulk operational rule Paris Agreement place ready implementation .',\n",
       " 'The process submitting stronger nationally determined contribution every five year , reviewing global stocktake , defined .',\n",
       " 'Countries must use rule reach highest possible ambition .',\n",
       " 'The secretariat continue support Parties non-party stakeholder effort put framework action .',\n",
       " 'In 2020 , priority ensure continuity global climate effort amidst COVID-19 .',\n",
       " 'The June conference well COP 26 postponed work continue assist Parties submitting nationally determined contribution support workstreams , constituted body work programme all-virtual environment .']"
      ]
     },
     "execution_count": 15,
     "metadata": {},
     "output_type": "execute_result"
    }
   ],
   "source": [
    "sentences2"
   ]
  },
  {
   "cell_type": "code",
   "execution_count": null,
   "metadata": {},
   "outputs": [],
   "source": []
  }
 ],
 "metadata": {
  "kernelspec": {
   "display_name": "Python 3",
   "language": "python",
   "name": "python3"
  },
  "language_info": {
   "codemirror_mode": {
    "name": "ipython",
    "version": 3
   },
   "file_extension": ".py",
   "mimetype": "text/x-python",
   "name": "python",
   "nbconvert_exporter": "python",
   "pygments_lexer": "ipython3",
   "version": "3.7.4"
  }
 },
 "nbformat": 4,
 "nbformat_minor": 2
}
